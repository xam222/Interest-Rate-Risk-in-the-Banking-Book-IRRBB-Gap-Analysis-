{
 "cells": [
  {
   "cell_type": "markdown",
   "id": "5fd047c4",
   "metadata": {},
   "source": [
    "### Cash Flow Generator Attempt"
   ]
  },
  {
   "cell_type": "code",
   "execution_count": null,
   "id": "4acfdcc9",
   "metadata": {},
   "outputs": [],
   "source": [
    "  import pandas as pd\n",
    "    import numpy as np\n",
    "    from datetime import datetime\n",
    "    from dateutil.relativedelta import relativedelta\n",
    "\n",
    "    def cashflow_month(ID):\n",
    "        cf_0 = variables_df.iloc[ID,3]*variables_df.iloc[ID,4]*variables_df.iloc[ID,5] / 12\n",
    "        period = variables_df['Cash Flow Period'][ID].years * 12\n",
    "        print(period)\n",
    "        for x in period:\n",
    "            cf_1 = variables_df.iloc[ID,3]*variables_df.iloc[ID,4]\n",
    "            period = period - 1 \n",
    "        else:\n",
    "            print(variables_df.iloc[ID,3])\n",
    "        print(cf_0); print(period); print(cf_1)\n",
    "\n",
    "    cashflow_month(1)\n"
   ]
  },
  {
   "cell_type": "markdown",
   "id": "4628bb23",
   "metadata": {},
   "source": [
    "Good Code"
   ]
  },
  {
   "cell_type": "code",
   "execution_count": 1,
   "id": "72434395",
   "metadata": {
    "scrolled": true
   },
   "outputs": [
    {
     "name": "stdout",
     "output_type": "stream",
     "text": [
      "15.0\n",
      "15.0\n",
      "15.0\n",
      "15.0\n",
      "15.0\n",
      "15.0\n",
      "15.0\n",
      "15.0\n",
      "15.0\n",
      "15.0\n",
      "1015.0\n",
      "None\n"
     ]
    }
   ],
   "source": [
    "par = 1000\n",
    "coupon_rate = 3\n",
    "T = 5\n",
    "freq = 2\n",
    "\n",
    "\n",
    "def cf_calculator(par, r, T, freq):\n",
    "    for i in range(0,(T * freq)+1):\n",
    "        if i < (T * freq):\n",
    "            coupon = ((r/100) * par) / freq\n",
    "            print(coupon)\n",
    "        else: \n",
    "            coupon = (((r/100) * par) / freq) + par\n",
    "            print(coupon)\n",
    "\n",
    "print(cf_calculator(par,coupon_rate,T,freq))"
   ]
  },
  {
   "cell_type": "markdown",
   "id": "a38ea048",
   "metadata": {},
   "source": [
    "DateTime to Integer Break Through\n"
   ]
  },
  {
   "cell_type": "code",
   "execution_count": 3,
   "id": "b375ab48",
   "metadata": {
    "scrolled": true
   },
   "outputs": [
    {
     "ename": "NameError",
     "evalue": "name 'variables_df' is not defined",
     "output_type": "error",
     "traceback": [
      "\u001b[1;31m---------------------------------------------------------------------------\u001b[0m",
      "\u001b[1;31mNameError\u001b[0m                                 Traceback (most recent call last)",
      "Input \u001b[1;32mIn [3]\u001b[0m, in \u001b[0;36m<cell line: 5>\u001b[1;34m()\u001b[0m\n\u001b[0;32m      3\u001b[0m \u001b[38;5;28;01mfrom\u001b[39;00m \u001b[38;5;21;01mdatetime\u001b[39;00m \u001b[38;5;28;01mimport\u001b[39;00m datetime\n\u001b[0;32m      4\u001b[0m \u001b[38;5;28;01mfrom\u001b[39;00m \u001b[38;5;21;01mdateutil\u001b[39;00m\u001b[38;5;21;01m.\u001b[39;00m\u001b[38;5;21;01mrelativedelta\u001b[39;00m \u001b[38;5;28;01mimport\u001b[39;00m relativedelta\n\u001b[1;32m----> 5\u001b[0m \u001b[43mvariables_df\u001b[49m[\u001b[38;5;124m'\u001b[39m\u001b[38;5;124mCash Flow Period\u001b[39m\u001b[38;5;124m'\u001b[39m][\u001b[38;5;241m1\u001b[39m]\u001b[38;5;241m.\u001b[39mdays\n",
      "\u001b[1;31mNameError\u001b[0m: name 'variables_df' is not defined"
     ]
    }
   ],
   "source": [
    "import pandas as pd\n",
    "import numpy as np\n",
    "from datetime import datetime\n",
    "from dateutil.relativedelta import relativedelta\n",
    "variables_df['Cash Flow Period'][1].days "
   ]
  },
  {
   "cell_type": "markdown",
   "id": "81014f93",
   "metadata": {},
   "source": [
    "Attempt to convert DateTime days into months"
   ]
  },
  {
   "cell_type": "code",
   "execution_count": null,
   "id": "79b8fd41",
   "metadata": {},
   "outputs": [],
   "source": [
    "print(variables_df['Maturity'][0] - variables_df['Coupon Start'][0])\n",
    "\n",
    "p = variables_df['Cash Flow Period'][0].days\n",
    "print(p/30)"
   ]
  },
  {
   "cell_type": "markdown",
   "id": "822ce2fa",
   "metadata": {},
   "source": [
    "Calculating Cashflow Period Brainstorm"
   ]
  },
  {
   "cell_type": "code",
   "execution_count": null,
   "id": "acd94866",
   "metadata": {},
   "outputs": [],
   "source": [
    "import pandas as pd\n",
    "import numpy as np\n",
    "from datetime import datetime\n",
    "from dateutil.relativedelta import relativedelta\n",
    "\n",
    "print(type(variables_df['Coupon Start'][0]))\n",
    "\n",
    "t = relativedelta(variables_df['Maturity'][1], variables_df['Coupon Start'][1])\n",
    "print(t)\n",
    "\n",
    "csh_flw_length = variables_df['Maturity'][ID] - variables_df['Coupon Start'][ID]\n",
    "\n",
    "t_1 = variables_df['Coupon Start'][ID] - relativedelta(months=1)"
   ]
  },
  {
   "cell_type": "code",
   "execution_count": 1,
   "id": "0df99fe3",
   "metadata": {},
   "outputs": [
    {
     "ename": "IndentationError",
     "evalue": "expected an indented block (38369663.py, line 4)",
     "output_type": "error",
     "traceback": [
      "\u001b[1;36m  Input \u001b[1;32mIn [1]\u001b[1;36m\u001b[0m\n\u001b[1;33m    t_1 = variables_df['Coupon Start'][0] - relativedelta(months=1)\u001b[0m\n\u001b[1;37m    ^\u001b[0m\n\u001b[1;31mIndentationError\u001b[0m\u001b[1;31m:\u001b[0m expected an indented block\n"
     ]
    }
   ],
   "source": [
    "if x < variables_df['Coupon Start'][0] + variables_df['Maturity'][0]:\n",
    "    \n",
    "    \n",
    "t_1 = variables_df['Coupon Start'][0] - relativedelta(months=1)\n",
    "print(t_1)"
   ]
  },
  {
   "cell_type": "code",
   "execution_count": 3,
   "id": "f84a2ebb",
   "metadata": {},
   "outputs": [
    {
     "ename": "NameError",
     "evalue": "name 'variables_df' is not defined",
     "output_type": "error",
     "traceback": [
      "\u001b[1;31m---------------------------------------------------------------------------\u001b[0m",
      "\u001b[1;31mNameError\u001b[0m                                 Traceback (most recent call last)",
      "Input \u001b[1;32mIn [3]\u001b[0m, in \u001b[0;36m<cell line: 1>\u001b[1;34m()\u001b[0m\n\u001b[1;32m----> 1\u001b[0m d \u001b[38;5;241m=\u001b[39m \u001b[43mvariables_df\u001b[49m[\u001b[38;5;124m'\u001b[39m\u001b[38;5;124mCash Flow Period\u001b[39m\u001b[38;5;124m'\u001b[39m][\u001b[38;5;241m0\u001b[39m]\u001b[38;5;241m.\u001b[39mdays \u001b[38;5;241m/\u001b[39m \u001b[38;5;241m30\u001b[39m\n\u001b[0;32m      2\u001b[0m \u001b[38;5;28mprint\u001b[39m(d)\n\u001b[0;32m      3\u001b[0m variables_df[\u001b[38;5;124m'\u001b[39m\u001b[38;5;124mCash Flow Period\u001b[39m\u001b[38;5;124m'\u001b[39m][\u001b[38;5;241m0\u001b[39m]\u001b[38;5;241m.\u001b[39myears\n",
      "\u001b[1;31mNameError\u001b[0m: name 'variables_df' is not defined"
     ]
    }
   ],
   "source": [
    "d = variables_df['Cash Flow Period'][0].days / 30\n",
    "print(d)\n",
    "variables_df['Cash Flow Period'][0].years"
   ]
  },
  {
   "cell_type": "code",
   "execution_count": 4,
   "id": "b713a7dc",
   "metadata": {},
   "outputs": [
    {
     "name": "stdout",
     "output_type": "stream",
     "text": [
      "[0, 1, 2, 3, 4, 5, 6, 7, 8, 9]\n"
     ]
    }
   ],
   "source": [
    "def retList():\n",
    "    list = []\n",
    "    for i in range(0,10):\n",
    "        list.append(i)\n",
    "    return list\n",
    "a = retList()\n",
    "print(a)"
   ]
  },
  {
   "cell_type": "code",
   "execution_count": 5,
   "id": "029047f4",
   "metadata": {},
   "outputs": [],
   "source": [
    "def cf_calculator(ID, freq):\n",
    "    for i in range(0,(variables_df['Cash Flow Period'][ID].days * freq)+1):\n",
    "        if i < (variables_df['Cash Flow Period'][ID].days * freq):\n",
    "            coupon = ((variables_df.iloc[ID,4]/100) * variables_df.iloc[ID,3]) / freq\n",
    "            print(coupon)\n",
    "        else: \n",
    "            coupon = (((variables_df.iloc[ID,4]/100) * variables_df.iloc[ID,3]) / freq) + variables_df.iloc[ID,3]\n",
    "            for i in range(0,(variables_df['Cash Flow Period'][ID].days * freq)+1):\n",
    "                list.append(i)\n",
    "                return list\n"
   ]
  },
  {
   "cell_type": "code",
   "execution_count": null,
   "id": "f545dc2d",
   "metadata": {},
   "outputs": [],
   "source": [
    "StartDate = variables_df['Coupon Start'][0]\n",
    "print(StartDate)\n",
    "Maturity = 24\n",
    "# Number of periods\n",
    "Periods = Maturity/3\n",
    "EndDate = StartDate + relativedelta(months=Maturity)"
   ]
  },
  {
   "cell_type": "markdown",
   "id": "e55e992a",
   "metadata": {},
   "source": [
    "CashFlow Monthly "
   ]
  },
  {
   "cell_type": "code",
   "execution_count": null,
   "id": "9d5ea625",
   "metadata": {},
   "outputs": [],
   "source": [
    "StartDate = variables_df['Coupon Start'][0]\n",
    "print(type(StartDate))"
   ]
  },
  {
   "cell_type": "code",
   "execution_count": 7,
   "id": "8e3912d9",
   "metadata": {},
   "outputs": [
    {
     "ename": "NameError",
     "evalue": "name 'variables_df' is not defined",
     "output_type": "error",
     "traceback": [
      "\u001b[1;31m---------------------------------------------------------------------------\u001b[0m",
      "\u001b[1;31mNameError\u001b[0m                                 Traceback (most recent call last)",
      "Input \u001b[1;32mIn [7]\u001b[0m, in \u001b[0;36m<cell line: 4>\u001b[1;34m()\u001b[0m\n\u001b[0;32m      1\u001b[0m \u001b[38;5;28;01mfrom\u001b[39;00m \u001b[38;5;21;01mdatetime\u001b[39;00m \u001b[38;5;28;01mimport\u001b[39;00m \u001b[38;5;241m*\u001b[39m; \u001b[38;5;28;01mfrom\u001b[39;00m \u001b[38;5;21;01mdateutil\u001b[39;00m\u001b[38;5;21;01m.\u001b[39;00m\u001b[38;5;21;01mrelativedelta\u001b[39;00m \u001b[38;5;28;01mimport\u001b[39;00m \u001b[38;5;241m*\u001b[39m\n\u001b[0;32m      2\u001b[0m \u001b[38;5;28;01mimport\u001b[39;00m \u001b[38;5;21;01mcalendar\u001b[39;00m\n\u001b[1;32m----> 4\u001b[0m StartDate \u001b[38;5;241m=\u001b[39m \u001b[43mvariables_df\u001b[49m[\u001b[38;5;124m'\u001b[39m\u001b[38;5;124mCoupon Start\u001b[39m\u001b[38;5;124m'\u001b[39m][\u001b[38;5;241m0\u001b[39m]\n\u001b[0;32m      6\u001b[0m Maturity \u001b[38;5;241m=\u001b[39m \u001b[38;5;241m24\u001b[39m\n\u001b[0;32m      7\u001b[0m Periods \u001b[38;5;241m=\u001b[39m Maturity\u001b[38;5;241m/\u001b[39m\u001b[38;5;241m12\u001b[39m\n",
      "\u001b[1;31mNameError\u001b[0m: name 'variables_df' is not defined"
     ]
    }
   ],
   "source": [
    "from datetime import *; from dateutil.relativedelta import *\n",
    "import calendar\n",
    "\n",
    "StartDate = variables_df['Coupon Start'][0]\n",
    "\n",
    "Maturity = 24\n",
    "Periods = Maturity/12\n",
    "print(Periods)\n",
    "EndDate = StartDate + relativedelta(months=Maturity)\n",
    "print(StartDate)\n",
    "print(EndDate)"
   ]
  },
  {
   "cell_type": "code",
   "execution_count": 6,
   "id": "183ad699",
   "metadata": {},
   "outputs": [
    {
     "ename": "NameError",
     "evalue": "name 'pd' is not defined",
     "output_type": "error",
     "traceback": [
      "\u001b[1;31m---------------------------------------------------------------------------\u001b[0m",
      "\u001b[1;31mNameError\u001b[0m                                 Traceback (most recent call last)",
      "Input \u001b[1;32mIn [6]\u001b[0m, in \u001b[0;36m<cell line: 1>\u001b[1;34m()\u001b[0m\n\u001b[1;32m----> 1\u001b[0m dt_i \u001b[38;5;241m=\u001b[39m \u001b[43mpd\u001b[49m\u001b[38;5;241m.\u001b[39mdate_range(start\u001b[38;5;241m=\u001b[39mStartDate,end\u001b[38;5;241m=\u001b[39mEndDate)\n\u001b[0;32m      2\u001b[0m \u001b[38;5;28mprint\u001b[39m(dt_i)\n\u001b[0;32m      3\u001b[0m \u001b[38;5;28mprint\u001b[39m(StartDate)\n",
      "\u001b[1;31mNameError\u001b[0m: name 'pd' is not defined"
     ]
    }
   ],
   "source": [
    "dt_i = pd.date_range(start=StartDate,end=EndDate)\n",
    "print(dt_i)\n",
    "print(StartDate)"
   ]
  },
  {
   "cell_type": "markdown",
   "id": "8b3a5ac9",
   "metadata": {},
   "source": [
    "Big breakthroigh quarter\n"
   ]
  },
  {
   "cell_type": "code",
   "execution_count": null,
   "id": "d99b9d85",
   "metadata": {},
   "outputs": [],
   "source": [
    "from dateutil.relativedelta import relativedelta                                                                                                                  \n",
    "from datetime import date \n",
    "d = date(2019, 1, 1)                                                                                                                                              \n",
    "day = relativedelta(days=1)                                                                                                                                       \n",
    "quarter = relativedelta(months=3)                                                                                                                                 \n",
    "while True: \n",
    "    print(d - day) \n",
    "    print(d - quarter) \n",
    "    d -= quarter \n"
   ]
  },
  {
   "cell_type": "code",
   "execution_count": 10,
   "id": "ae29c224",
   "metadata": {},
   "outputs": [
    {
     "ename": "NameError",
     "evalue": "name 'variables_df' is not defined",
     "output_type": "error",
     "traceback": [
      "\u001b[1;31m---------------------------------------------------------------------------\u001b[0m",
      "\u001b[1;31mNameError\u001b[0m                                 Traceback (most recent call last)",
      "Input \u001b[1;32mIn [10]\u001b[0m, in \u001b[0;36m<cell line: 3>\u001b[1;34m()\u001b[0m\n\u001b[0;32m      1\u001b[0m \u001b[38;5;28;01mfrom\u001b[39;00m \u001b[38;5;21;01mdateutil\u001b[39;00m\u001b[38;5;21;01m.\u001b[39;00m\u001b[38;5;21;01mrelativedelta\u001b[39;00m \u001b[38;5;28;01mimport\u001b[39;00m relativedelta                                                                                                                  \n\u001b[0;32m      2\u001b[0m \u001b[38;5;28;01mfrom\u001b[39;00m \u001b[38;5;21;01mdatetime\u001b[39;00m \u001b[38;5;28;01mimport\u001b[39;00m date \n\u001b[1;32m----> 3\u001b[0m d \u001b[38;5;241m=\u001b[39m \u001b[43mvariables_df\u001b[49m[\u001b[38;5;124m'\u001b[39m\u001b[38;5;124mCoupon Start\u001b[39m\u001b[38;5;124m'\u001b[39m][\u001b[38;5;241m0\u001b[39m]                                                                                                                                                                                                                                                                                     \n\u001b[0;32m      4\u001b[0m quarter \u001b[38;5;241m=\u001b[39m relativedelta(months\u001b[38;5;241m=\u001b[39m\u001b[38;5;241m3\u001b[39m)                                                                                                                                 \n\u001b[0;32m      5\u001b[0m \u001b[38;5;28;01mwhile\u001b[39;00m \u001b[38;5;28;01mTrue\u001b[39;00m: \n",
      "\u001b[1;31mNameError\u001b[0m: name 'variables_df' is not defined"
     ]
    }
   ],
   "source": [
    "from dateutil.relativedelta import relativedelta                                                                                                                  \n",
    "from datetime import date \n",
    "d = variables_df['Coupon Start'][0]                                                                                                                                                                                                                                                                                     \n",
    "quarter = relativedelta(months=3)                                                                                                                                 \n",
    "while True: \n",
    "    print(d + quarter) \n",
    "    d += quarter \n",
    "    if d == EndDate:\n",
    "            break"
   ]
  },
  {
   "cell_type": "code",
   "execution_count": null,
   "id": "fed61eda",
   "metadata": {},
   "outputs": [],
   "source": [
    "def cshflwQuarterly(ID):\n",
    "    Maturity = 3\n",
    "    S = variables_df['Coupon Start'][ID]   \n",
    "    E = S + relativedelta(months=Maturity)\n",
    "    quarter = relativedelta(months=3)    \n",
    "    while True: \n",
    "        print(S + quarter)\n",
    "        S += quarter \n",
    "        if S == EndDate:\n",
    "            break\n",
    "    \n",
    "    print(type(cf))\n",
    "cshflwQuarterly(1)"
   ]
  },
  {
   "cell_type": "code",
   "execution_count": 8,
   "id": "9fb83459",
   "metadata": {},
   "outputs": [
    {
     "ename": "NameError",
     "evalue": "name 'variables_df' is not defined",
     "output_type": "error",
     "traceback": [
      "\u001b[1;31m---------------------------------------------------------------------------\u001b[0m",
      "\u001b[1;31mNameError\u001b[0m                                 Traceback (most recent call last)",
      "Input \u001b[1;32mIn [8]\u001b[0m, in \u001b[0;36m<cell line: 17>\u001b[1;34m()\u001b[0m\n\u001b[0;32m     14\u001b[0m             \u001b[38;5;28;01mbreak\u001b[39;00m\n\u001b[0;32m     16\u001b[0m     \u001b[38;5;28mprint\u001b[39m(\u001b[38;5;28mtype\u001b[39m(cf))\n\u001b[1;32m---> 17\u001b[0m \u001b[43mcshflwQuarterly\u001b[49m\u001b[43m(\u001b[49m\u001b[38;5;241;43m1\u001b[39;49m\u001b[43m)\u001b[49m\n",
      "Input \u001b[1;32mIn [8]\u001b[0m, in \u001b[0;36mcshflwQuarterly\u001b[1;34m(ID)\u001b[0m\n\u001b[0;32m      4\u001b[0m \u001b[38;5;28;01mdef\u001b[39;00m \u001b[38;5;21mcshflwQuarterly\u001b[39m(ID):\n\u001b[0;32m      5\u001b[0m     Maturity \u001b[38;5;241m=\u001b[39m \u001b[38;5;241m3\u001b[39m\n\u001b[1;32m----> 6\u001b[0m     S \u001b[38;5;241m=\u001b[39m \u001b[43mvariables_df\u001b[49m[\u001b[38;5;124m'\u001b[39m\u001b[38;5;124mCoupon Start\u001b[39m\u001b[38;5;124m'\u001b[39m][ID]   \n\u001b[0;32m      7\u001b[0m     E \u001b[38;5;241m=\u001b[39m S \u001b[38;5;241m+\u001b[39m relativedelta(months\u001b[38;5;241m=\u001b[39mMaturity)\n\u001b[0;32m      8\u001b[0m     E \u001b[38;5;241m=\u001b[39m variables_df[\u001b[38;5;124m'\u001b[39m\u001b[38;5;124mExpiration Date\u001b[39m\u001b[38;5;124m'\u001b[39m][ID]\n",
      "\u001b[1;31mNameError\u001b[0m: name 'variables_df' is not defined"
     ]
    }
   ],
   "source": [
    "from dateutil.relativedelta import relativedelta                                                                                                                  \n",
    "from datetime import date \n",
    "\n",
    "def cshflwQuarterly(ID):\n",
    "    Maturity = 3\n",
    "    S = variables_df['Coupon Start'][ID]   \n",
    "    E = S + relativedelta(months=Maturity)\n",
    "    E = variables_df['Expiration Date'][ID]\n",
    "    quarter = relativedelta(months=3)    \n",
    "    while True: \n",
    "        print(S + quarter)\n",
    "        S += quarter \n",
    "        if S == EndDate:\n",
    "            break\n",
    "    \n",
    "    print(type(cf))\n",
    "cshflwQuarterly(1)"
   ]
  },
  {
   "cell_type": "code",
   "execution_count": 9,
   "id": "073b16bf",
   "metadata": {},
   "outputs": [
    {
     "ename": "SyntaxError",
     "evalue": "unmatched ')' (2846348543.py, line 2)",
     "output_type": "error",
     "traceback": [
      "\u001b[1;36m  Input \u001b[1;32mIn [9]\u001b[1;36m\u001b[0m\n\u001b[1;33m    periods=Maturity,normalize=True)(\"\")\u001b[0m\n\u001b[1;37m                                   ^\u001b[0m\n\u001b[1;31mSyntaxError\u001b[0m\u001b[1;31m:\u001b[0m unmatched ')'\n"
     ]
    }
   ],
   "source": [
    "pd.date_range(start=StartDate,end=EndDate,freq='B')\n",
    ",periods=Maturity,normalize=True)"
   ]
  },
  {
   "cell_type": "code",
   "execution_count": 1,
   "id": "619590f5",
   "metadata": {},
   "outputs": [
    {
     "ename": "NameError",
     "evalue": "name 'cf' is not defined",
     "output_type": "error",
     "traceback": [
      "\u001b[1;31m---------------------------------------------------------------------------\u001b[0m",
      "\u001b[1;31mNameError\u001b[0m                                 Traceback (most recent call last)",
      "Input \u001b[1;32mIn [1]\u001b[0m, in \u001b[0;36m<cell line: 1>\u001b[1;34m()\u001b[0m\n\u001b[1;32m----> 1\u001b[0m \u001b[38;5;28;01mfor\u001b[39;00m index, row \u001b[38;5;129;01min\u001b[39;00m \u001b[43mcf\u001b[49m\u001b[38;5;241m.\u001b[39miterrows():\n\u001b[0;32m      2\u001b[0m     output \u001b[38;5;241m=\u001b[39m row[\u001b[38;5;124m\"\u001b[39m\u001b[38;5;124mDate\u001b[39m\u001b[38;5;124m\"\u001b[39m], row[\u001b[38;5;124m\"\u001b[39m\u001b[38;5;124mCF\u001b[39m\u001b[38;5;124m\"\u001b[39m]\n\u001b[0;32m      3\u001b[0m     \u001b[38;5;66;03m#output = pd.DataFrame(output)\u001b[39;00m\n",
      "\u001b[1;31mNameError\u001b[0m: name 'cf' is not defined"
     ]
    }
   ],
   "source": [
    "for index, row in cf.iterrows():\n",
    "    output = row[\"Date\"], row[\"CF\"]\n",
    "    #output = pd.DataFrame(output)\n",
    "    print(output)"
   ]
  },
  {
   "cell_type": "code",
   "execution_count": 2,
   "id": "bf4fcd9c",
   "metadata": {},
   "outputs": [],
   "source": [
    "def interval_calc(time):\n",
    "    for index, row in cf.iterrows():\n",
    "        output = row[\"Date\"], row[\"CF\"]\n",
    "        time_extract = output[output[:,0].isin(time)][:,1].sum()\n",
    "    print(output)\n",
    "    print(time_extract)"
   ]
  },
  {
   "cell_type": "code",
   "execution_count": null,
   "id": "eeb54063",
   "metadata": {},
   "outputs": [],
   "source": [
    "for date,cf in cf:\n",
    "    cf = cf[cf['Date'].isin(time)]['CF'].sum()\n",
    "    print(cf)\n",
    "    "
   ]
  },
  {
   "cell_type": "code",
   "execution_count": 3,
   "id": "533f0935",
   "metadata": {},
   "outputs": [],
   "source": [
    "def interval_calc(time):\n",
    "    time_extract = cf[cf['Date'].isin(time)]['CF'].sum()\n",
    "    print(time_extract)\n",
    "\n",
    "    "
   ]
  },
  {
   "cell_type": "code",
   "execution_count": 4,
   "id": "95666777",
   "metadata": {},
   "outputs": [
    {
     "ename": "NameError",
     "evalue": "name 'cf' is not defined",
     "output_type": "error",
     "traceback": [
      "\u001b[1;31m---------------------------------------------------------------------------\u001b[0m",
      "\u001b[1;31mNameError\u001b[0m                                 Traceback (most recent call last)",
      "Input \u001b[1;32mIn [4]\u001b[0m, in \u001b[0;36m<cell line: 1>\u001b[1;34m()\u001b[0m\n\u001b[1;32m----> 1\u001b[0m \u001b[43mcf\u001b[49m[cf[\u001b[38;5;124m'\u001b[39m\u001b[38;5;124mDate\u001b[39m\u001b[38;5;124m'\u001b[39m]\u001b[38;5;241m.\u001b[39misin(y2_y3)][\u001b[38;5;124m'\u001b[39m\u001b[38;5;124mCF\u001b[39m\u001b[38;5;124m'\u001b[39m]\u001b[38;5;241m.\u001b[39msum()\n",
      "\u001b[1;31mNameError\u001b[0m: name 'cf' is not defined"
     ]
    }
   ],
   "source": [
    "cf[cf['Date'].isin(y2_y3)]['CF'].sum()\n"
   ]
  },
  {
   "cell_type": "code",
   "execution_count": null,
   "id": "b2b657a0",
   "metadata": {},
   "outputs": [],
   "source": []
  }
 ],
 "metadata": {
  "kernelspec": {
   "display_name": "Python 3 (ipykernel)",
   "language": "python",
   "name": "python3"
  },
  "language_info": {
   "codemirror_mode": {
    "name": "ipython",
    "version": 3
   },
   "file_extension": ".py",
   "mimetype": "text/x-python",
   "name": "python",
   "nbconvert_exporter": "python",
   "pygments_lexer": "ipython3",
   "version": "3.9.12"
  },
  "toc": {
   "base_numbering": 1,
   "nav_menu": {},
   "number_sections": true,
   "sideBar": true,
   "skip_h1_title": false,
   "title_cell": "Table of Contents",
   "title_sidebar": "Contents",
   "toc_cell": false,
   "toc_position": {},
   "toc_section_display": true,
   "toc_window_display": false
  }
 },
 "nbformat": 4,
 "nbformat_minor": 5
}
