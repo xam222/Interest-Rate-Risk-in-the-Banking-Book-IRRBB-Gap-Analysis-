{
 "cells": [
  {
   "cell_type": "markdown",
   "id": "27650110",
   "metadata": {},
   "source": [
    "# Final IRRBB Gap Analysis\n"
   ]
  },
  {
   "cell_type": "markdown",
   "id": "7044c69a",
   "metadata": {},
   "source": [
    "The desired purpose of this code is to be able to record instruments and calculate the Gap Analysis Repricing, using a cash flow generator, visulazing the gap analysis.\n",
    "~~\n",
    "The code will be partioned in the following way:\n",
    "1. DataFrame where instruments (Bonds) will be recorded (inputed) and given an identification symbol.\n",
    "2. A cashflow generating script which will be used to calculate Gap Analysis, outputting a DataFrame.\n",
    "3. A visulazing (Line Graph) script where the timestamped intruments will be delegated into buckets, the script will visualize the conclusions made in part 2."
   ]
  },
  {
   "cell_type": "markdown",
   "id": "36b75d23",
   "metadata": {},
   "source": [
    "# Part 1"
   ]
  },
  {
   "cell_type": "markdown",
   "id": "6645fb41",
   "metadata": {},
   "source": [
    "## DataFrame Input"
   ]
  },
  {
   "cell_type": "markdown",
   "id": "bf703108",
   "metadata": {},
   "source": [
    "The cash flow generator is a calculator which will calculate coupon payments based on these parameters. It will generate a dataframe named 'cf' below. The problem that arose is finding an appropriate library which allows us to properly acustom coupon dates. This is the code that stagnated the IRRBB Gap Analysis code."
   ]
  },
  {
   "cell_type": "markdown",
   "id": "a8bcf07d",
   "metadata": {},
   "source": [
    "The following variables will be used as input, to calculate Cash Flows:\n",
    "1. ID\n",
    "2. Type\n",
    "3. Name\n",
    "4. Face Value\n",
    "5. Coupon Rate\n",
    "6. Period\n",
    "7. Currency\n",
    "8. Start Date\n",
    "9. End Date\n",
    "10. Maturity\n",
    "11. Compound\n",
    "12. Coupon Start"
   ]
  },
  {
   "cell_type": "markdown",
   "id": "7bdbfb00",
   "metadata": {},
   "source": [
    "### Setting Variables\n"
   ]
  },
  {
   "cell_type": "markdown",
   "id": "1746c3cc",
   "metadata": {},
   "source": [
    "Let's define the above specified variables in a random example using 3 bonds. For future reference let's define a User Defined Function that is available to append instruments when user gives parameters for variables."
   ]
  },
  {
   "cell_type": "markdown",
   "id": "273e166b",
   "metadata": {},
   "source": [
    "The expiration date is either the last day or only day on which the instrument can be exercised. In contrast, the maturity date is the day on which the underlying transaction settles when an instrument is applied."
   ]
  },
  {
   "cell_type": "code",
   "execution_count": 421,
   "id": "4f698f27",
   "metadata": {},
   "outputs": [
    {
     "name": "stdout",
     "output_type": "stream",
     "text": [
      "['ID', 'Type', 'Name', 'Face_value', 'Coupon Rate', 'Period', 'Currency', 'Start_Date', 'End_Date', 'Maturity', 'Compound', 'Coupon Start']\n"
     ]
    }
   ],
   "source": [
    "import pandas as pd\n",
    "import numpy as np\n",
    "from datetime import datetime\n",
    "\n",
    "variables = ['ID','Type','Name','Face_value','Coupon Rate','Period','Currency','Start_Date','End_Date','Maturity','Compound','Coupon Start']\n",
    "print(variables)\n",
    "\n",
    "ID = [1,2,3]\n",
    "Type = ['Bond','Bond','Bond']\n",
    "Name = ['Bond A', 'Bond B', 'Bond C']\n",
    "#Dollar Amoount\n",
    "Face_Value = [1e4,1e6,1e5]\n",
    "#Percentage\n",
    "Coupon_Rate = [3.00,3.25,2.88]\n",
    "# In Months\n",
    "Coupon_Period = [12,12,12]\n",
    "Currency = ['USD','EUR','EUR']\n",
    "Start_date = ['2.1.2023','2.1.2023','2.1.2023']\n",
    "Maturity = ['2.1.2025','2.1.2028','2.1.2033']\n",
    "Compound = ['M','M','M']\n",
    "Coupon_Start = ['2.1.2023','15.5.2023','2.1.2023']\n",
    "Expiration_Date = ['1.1.2025','1.1.2028','1.1.2033']\n"
   ]
  },
  {
   "cell_type": "markdown",
   "id": "35795f29",
   "metadata": {},
   "source": [
    "### Converting to DataFrame"
   ]
  },
  {
   "cell_type": "markdown",
   "id": "3cf74eec",
   "metadata": {},
   "source": [
    "The following code use the above supplied variables and creates a pandas DataFrame out of them."
   ]
  },
  {
   "cell_type": "code",
   "execution_count": 422,
   "id": "6502d3fa",
   "metadata": {
    "scrolled": true
   },
   "outputs": [
    {
     "name": "stdout",
     "output_type": "stream",
     "text": [
      "{'ID': [1, 2, 3], 'Type': ['Bond', 'Bond', 'Bond'], 'Name': ['Bond A', 'Bond B', 'Bond C'], 'Face Value': [10000.0, 1000000.0, 100000.0], 'Coupon Rate': [3.0, 3.25, 2.88], 'Coupon Period': [12, 12, 12], 'Currency': ['USD', 'EUR', 'EUR'], 'Start Date': ['2.1.2023', '2.1.2023', '2.1.2023'], 'Maturity': ['2.1.2025', '2.1.2028', '2.1.2033'], 'Compound': ['M', 'M', 'M'], 'Coupon Start': ['2.1.2023', '15.5.2023', '2.1.2023'], 'Expiration Date': ['1.1.2025', '1.1.2028', '1.1.2033']}\n"
     ]
    },
    {
     "data": {
      "text/html": [
       "<div>\n",
       "<style scoped>\n",
       "    .dataframe tbody tr th:only-of-type {\n",
       "        vertical-align: middle;\n",
       "    }\n",
       "\n",
       "    .dataframe tbody tr th {\n",
       "        vertical-align: top;\n",
       "    }\n",
       "\n",
       "    .dataframe thead th {\n",
       "        text-align: right;\n",
       "    }\n",
       "</style>\n",
       "<table border=\"1\" class=\"dataframe\">\n",
       "  <thead>\n",
       "    <tr style=\"text-align: right;\">\n",
       "      <th></th>\n",
       "      <th>Type</th>\n",
       "      <th>Name</th>\n",
       "      <th>Face Value</th>\n",
       "      <th>Coupon Rate</th>\n",
       "      <th>Coupon Period</th>\n",
       "      <th>Currency</th>\n",
       "      <th>Start Date</th>\n",
       "      <th>Maturity</th>\n",
       "      <th>Compound</th>\n",
       "      <th>Coupon Start</th>\n",
       "      <th>Expiration Date</th>\n",
       "    </tr>\n",
       "    <tr>\n",
       "      <th>ID</th>\n",
       "      <th></th>\n",
       "      <th></th>\n",
       "      <th></th>\n",
       "      <th></th>\n",
       "      <th></th>\n",
       "      <th></th>\n",
       "      <th></th>\n",
       "      <th></th>\n",
       "      <th></th>\n",
       "      <th></th>\n",
       "      <th></th>\n",
       "    </tr>\n",
       "  </thead>\n",
       "  <tbody>\n",
       "    <tr>\n",
       "      <th>1</th>\n",
       "      <td>Bond</td>\n",
       "      <td>Bond A</td>\n",
       "      <td>10000.0</td>\n",
       "      <td>3.00</td>\n",
       "      <td>12</td>\n",
       "      <td>USD</td>\n",
       "      <td>2.1.2023</td>\n",
       "      <td>2.1.2025</td>\n",
       "      <td>M</td>\n",
       "      <td>2.1.2023</td>\n",
       "      <td>1.1.2025</td>\n",
       "    </tr>\n",
       "    <tr>\n",
       "      <th>2</th>\n",
       "      <td>Bond</td>\n",
       "      <td>Bond B</td>\n",
       "      <td>1000000.0</td>\n",
       "      <td>3.25</td>\n",
       "      <td>12</td>\n",
       "      <td>EUR</td>\n",
       "      <td>2.1.2023</td>\n",
       "      <td>2.1.2028</td>\n",
       "      <td>M</td>\n",
       "      <td>15.5.2023</td>\n",
       "      <td>1.1.2028</td>\n",
       "    </tr>\n",
       "    <tr>\n",
       "      <th>3</th>\n",
       "      <td>Bond</td>\n",
       "      <td>Bond C</td>\n",
       "      <td>100000.0</td>\n",
       "      <td>2.88</td>\n",
       "      <td>12</td>\n",
       "      <td>EUR</td>\n",
       "      <td>2.1.2023</td>\n",
       "      <td>2.1.2033</td>\n",
       "      <td>M</td>\n",
       "      <td>2.1.2023</td>\n",
       "      <td>1.1.2033</td>\n",
       "    </tr>\n",
       "  </tbody>\n",
       "</table>\n",
       "</div>"
      ],
      "text/plain": [
       "    Type    Name  Face Value  Coupon Rate  Coupon Period Currency Start Date  \\\n",
       "ID                                                                             \n",
       "1   Bond  Bond A     10000.0         3.00             12      USD   2.1.2023   \n",
       "2   Bond  Bond B   1000000.0         3.25             12      EUR   2.1.2023   \n",
       "3   Bond  Bond C    100000.0         2.88             12      EUR   2.1.2023   \n",
       "\n",
       "    Maturity Compound Coupon Start Expiration Date  \n",
       "ID                                                  \n",
       "1   2.1.2025        M     2.1.2023        1.1.2025  \n",
       "2   2.1.2028        M    15.5.2023        1.1.2028  \n",
       "3   2.1.2033        M     2.1.2023        1.1.2033  "
      ]
     },
     "execution_count": 422,
     "metadata": {},
     "output_type": "execute_result"
    }
   ],
   "source": [
    "variables_dict = {'ID':ID,\n",
    "                  'Type':Type,\n",
    "                  'Name':Name,\n",
    "                  'Face Value':Face_Value,\n",
    "                  'Coupon Rate':Coupon_Rate,\n",
    "                  'Coupon Period':Coupon_Period,\n",
    "                  'Currency':Currency,\n",
    "                  'Start Date':Start_date,\n",
    "                  'Maturity':Maturity,\n",
    "                  'Compound':Compound,\n",
    "                 'Coupon Start':Coupon_Start,\n",
    "                 'Expiration Date':Expiration_Date}\n",
    "print(variables_dict)\n",
    "variables_df = pd.DataFrame.from_dict(variables_dict)\n",
    "variables_df.set_index('ID')"
   ]
  },
  {
   "cell_type": "markdown",
   "id": "c705e122",
   "metadata": {},
   "source": [
    "# Part 2"
   ]
  },
  {
   "cell_type": "markdown",
   "id": "bd449c94",
   "metadata": {},
   "source": [
    "## Cash Flow Calculations"
   ]
  },
  {
   "cell_type": "markdown",
   "id": "fdcb86bd",
   "metadata": {},
   "source": [
    "A cashflow generating script which will be used to calculate Gap Analysis, outputting a DataFrame."
   ]
  },
  {
   "cell_type": "code",
   "execution_count": 423,
   "id": "a5796a1b",
   "metadata": {
    "scrolled": true
   },
   "outputs": [
    {
     "name": "stdout",
     "output_type": "stream",
     "text": [
      "<class 'pandas._libs.tslibs.timestamps.Timestamp'>\n"
     ]
    },
    {
     "data": {
      "text/html": [
       "<div>\n",
       "<style scoped>\n",
       "    .dataframe tbody tr th:only-of-type {\n",
       "        vertical-align: middle;\n",
       "    }\n",
       "\n",
       "    .dataframe tbody tr th {\n",
       "        vertical-align: top;\n",
       "    }\n",
       "\n",
       "    .dataframe thead th {\n",
       "        text-align: right;\n",
       "    }\n",
       "</style>\n",
       "<table border=\"1\" class=\"dataframe\">\n",
       "  <thead>\n",
       "    <tr style=\"text-align: right;\">\n",
       "      <th></th>\n",
       "      <th>Type</th>\n",
       "      <th>Name</th>\n",
       "      <th>Face Value</th>\n",
       "      <th>Coupon Rate</th>\n",
       "      <th>Coupon Period</th>\n",
       "      <th>Currency</th>\n",
       "      <th>Start Date</th>\n",
       "      <th>Maturity</th>\n",
       "      <th>Compound</th>\n",
       "      <th>Coupon Start</th>\n",
       "      <th>Expiration Date</th>\n",
       "    </tr>\n",
       "    <tr>\n",
       "      <th>ID</th>\n",
       "      <th></th>\n",
       "      <th></th>\n",
       "      <th></th>\n",
       "      <th></th>\n",
       "      <th></th>\n",
       "      <th></th>\n",
       "      <th></th>\n",
       "      <th></th>\n",
       "      <th></th>\n",
       "      <th></th>\n",
       "      <th></th>\n",
       "    </tr>\n",
       "  </thead>\n",
       "  <tbody>\n",
       "    <tr>\n",
       "      <th>1</th>\n",
       "      <td>Bond</td>\n",
       "      <td>Bond A</td>\n",
       "      <td>10000.0</td>\n",
       "      <td>3.00</td>\n",
       "      <td>12</td>\n",
       "      <td>USD</td>\n",
       "      <td>2.1.2023</td>\n",
       "      <td>2.1.2025</td>\n",
       "      <td>M</td>\n",
       "      <td>2.1.2023</td>\n",
       "      <td>1.1.2025</td>\n",
       "    </tr>\n",
       "    <tr>\n",
       "      <th>2</th>\n",
       "      <td>Bond</td>\n",
       "      <td>Bond B</td>\n",
       "      <td>1000000.0</td>\n",
       "      <td>3.25</td>\n",
       "      <td>12</td>\n",
       "      <td>EUR</td>\n",
       "      <td>2.1.2023</td>\n",
       "      <td>2.1.2028</td>\n",
       "      <td>M</td>\n",
       "      <td>15.5.2023</td>\n",
       "      <td>1.1.2028</td>\n",
       "    </tr>\n",
       "    <tr>\n",
       "      <th>3</th>\n",
       "      <td>Bond</td>\n",
       "      <td>Bond C</td>\n",
       "      <td>100000.0</td>\n",
       "      <td>2.88</td>\n",
       "      <td>12</td>\n",
       "      <td>EUR</td>\n",
       "      <td>2.1.2023</td>\n",
       "      <td>2.1.2033</td>\n",
       "      <td>M</td>\n",
       "      <td>2.1.2023</td>\n",
       "      <td>1.1.2033</td>\n",
       "    </tr>\n",
       "  </tbody>\n",
       "</table>\n",
       "</div>"
      ],
      "text/plain": [
       "    Type    Name  Face Value  Coupon Rate  Coupon Period Currency Start Date  \\\n",
       "ID                                                                             \n",
       "1   Bond  Bond A     10000.0         3.00             12      USD   2.1.2023   \n",
       "2   Bond  Bond B   1000000.0         3.25             12      EUR   2.1.2023   \n",
       "3   Bond  Bond C    100000.0         2.88             12      EUR   2.1.2023   \n",
       "\n",
       "    Maturity Compound Coupon Start Expiration Date  \n",
       "ID                                                  \n",
       "1   2.1.2025        M     2.1.2023        1.1.2025  \n",
       "2   2.1.2028        M    15.5.2023        1.1.2028  \n",
       "3   2.1.2033        M     2.1.2023        1.1.2033  "
      ]
     },
     "execution_count": 423,
     "metadata": {},
     "output_type": "execute_result"
    }
   ],
   "source": [
    "variables_df['Start Date'] = pd.to_datetime(variables_df['Start Date'])\n",
    "variables_df['Maturity'] = pd.to_datetime(variables_df['Maturity'])\n",
    "variables_df['Coupon Start'] = pd.to_datetime(variables_df['Coupon Start'])\n",
    "variables_df['Expiration Date'] = pd.to_datetime(variables_df['Expiration Date'])\n",
    "\n",
    "print(type(variables_df['Start Date'][1]))\n",
    "variables_df = pd.DataFrame.from_dict(variables_dict)\n",
    "variables_df.set_index('ID')"
   ]
  },
  {
   "cell_type": "code",
   "execution_count": 424,
   "id": "61d19907",
   "metadata": {},
   "outputs": [
    {
     "name": "stdout",
     "output_type": "stream",
     "text": [
      "2023-02-01 00:00:00\n",
      "<class 'pandas._libs.tslibs.timestamps.Timestamp'>\n",
      "731 days 00:00:00\n",
      "   ID  Type    Name  Face Value  Coupon Rate  Coupon Period Currency  \\\n",
      "0   1  Bond  Bond A     10000.0         3.00             12      USD   \n",
      "1   2  Bond  Bond B   1000000.0         3.25             12      EUR   \n",
      "2   3  Bond  Bond C    100000.0         2.88             12      EUR   \n",
      "\n",
      "  Start Date   Maturity Compound Coupon Start Expiration Date Cash Flow Period  \n",
      "0 2023-02-01 2025-02-01        M   2023-02-01      2025-01-01         731 days  \n",
      "1 2023-02-01 2028-02-01        M   2023-05-15      2028-01-01        1723 days  \n",
      "2 2023-02-01 2033-02-01        M   2023-02-01      2033-01-01        3653 days  \n"
     ]
    }
   ],
   "source": [
    "import pandas as pd\n",
    "import numpy as np\n",
    "from datetime import datetime\n",
    "from dateutil.relativedelta import relativedelta\n",
    "\n",
    "variables_df['Start Date'] = pd.to_datetime(variables_df['Start Date'])\n",
    "variables_df['Maturity'] = pd.to_datetime(variables_df['Maturity'])\n",
    "variables_df['Coupon Start'] = pd.to_datetime(variables_df['Coupon Start'])\n",
    "variables_df['Expiration Date'] = pd.to_datetime(variables_df['Expiration Date'])\n",
    "variables_df['Cash Flow Period'] =  variables_df['Maturity'] - variables_df['Coupon Start'] \n",
    "print(variables_df['Start Date'][0])\n",
    "print(type(variables_df['Start Date'][0]))\n",
    "print(variables_df['Cash Flow Period'][0])\n",
    "print(variables_df)"
   ]
  },
  {
   "cell_type": "markdown",
   "id": "d3608a7a",
   "metadata": {},
   "source": [
    "Cash flow Calculations"
   ]
  },
  {
   "cell_type": "code",
   "execution_count": 425,
   "id": "25b21002",
   "metadata": {},
   "outputs": [
    {
     "name": "stdout",
     "output_type": "stream",
     "text": [
      "2023-02-01 00:00:00\n",
      "2025-02-01 00:00:00\n",
      "  Cash Flow Dates Quarterly\n",
      "0                2023-02-28\n",
      "1                2023-05-31\n",
      "2                2023-08-31\n",
      "3                2023-11-30\n",
      "4                2024-02-29\n",
      "5                2024-05-31\n",
      "6                2024-08-31\n",
      "7                2024-11-30\n"
     ]
    }
   ],
   "source": [
    "from datetime import *; from dateutil.relativedelta import *\n",
    "import calendar\n",
    "\n",
    "def cshflwQuarterly(ID):\n",
    "    StartDate = variables_df['Coupon Start'][ID]\n",
    "    Maturity = 24\n",
    "    Coupon = Maturity / 3\n",
    "    EndDate = StartDate + relativedelta(months=Maturity)\n",
    "    Quarter = relativedelta(months=3)\n",
    "    print(StartDate);print(EndDate)\n",
    "    cf = pd.date_range(start=StartDate,end=EndDate,freq='3M')\n",
    "    cf = cf.strftime('%Y-%m-%d')\n",
    "    cf = pd.DataFrame(cf,columns=['Cash Flow Dates Quarterly'])\n",
    "    print(cf)\n",
    "    \n",
    "cshflwQuarterly(0)"
   ]
  },
  {
   "cell_type": "code",
   "execution_count": 426,
   "id": "dd5a38b1",
   "metadata": {},
   "outputs": [
    {
     "name": "stdout",
     "output_type": "stream",
     "text": [
      "2023-02-01 00:00:00\n",
      "2025-02-01 00:00:00\n",
      "  Cash Flow Dates Yearly\n",
      "0             2023-02-01\n",
      "1             2025-02-01\n"
     ]
    }
   ],
   "source": [
    "from datetime import *; from dateutil.relativedelta import *\n",
    "import calendar\n",
    "\n",
    "def cshflwYearly(ID,Years_Maturity):\n",
    "    StartDate = variables_df['Coupon Start'][ID]\n",
    "    Maturity = Years_Maturity\n",
    "    EndDate = StartDate + relativedelta(years=Maturity)\n",
    "    print(StartDate);print(EndDate)\n",
    "    cf = pd.date_range(start=StartDate,end=EndDate,periods=Maturity,normalize=True)\n",
    "    cf = cf.strftime('%Y-%m-%d')\n",
    "    cf = pd.DataFrame(cf,columns=['Cash Flow Dates Yearly'])\n",
    "    print(cf)\n",
    "\n",
    "    \n",
    "    \n",
    "cshflwYearly(0,2)"
   ]
  },
  {
   "cell_type": "code",
   "execution_count": 427,
   "id": "febb6953",
   "metadata": {},
   "outputs": [
    {
     "name": "stdout",
     "output_type": "stream",
     "text": [
      "2023-02-01 00:00:00\n",
      "2024-02-01 00:00:00\n",
      "<class 'pandas.core.frame.DataFrame'>\n"
     ]
    }
   ],
   "source": [
    "from datetime import *; from dateutil.relativedelta import *\n",
    "import calendar\n",
    "\n",
    "def cshflwMonthly(ID,Months_Maturity):\n",
    "    StartDate = variables_df['Coupon Start'][ID]\n",
    "    Maturity = Months_Maturity\n",
    "    EndDate = StartDate + relativedelta(months=Maturity)\n",
    "    print(StartDate);print(EndDate)\n",
    "    cf = pd.date_range(start=StartDate,end=EndDate,periods=Maturity,normalize=True)\n",
    "    cf = cf.strftime('%Y-%m-%d')\n",
    "    cf = pd.DataFrame(cf,columns=['Cash Flow Dates Monthly'])\n",
    "    print(type(cf))\n",
    "    \n",
    "cshflwMonthly(0,12)\n"
   ]
  },
  {
   "cell_type": "markdown",
   "id": "c652ee10",
   "metadata": {},
   "source": [
    "# Part 3"
   ]
  },
  {
   "cell_type": "markdown",
   "id": "3f804171",
   "metadata": {},
   "source": [
    "## Cash Flows Visualisation\n"
   ]
  },
  {
   "cell_type": "markdown",
   "id": "c06664e2",
   "metadata": {},
   "source": [
    "As part 2 was not completed as a relevant Cash Flow DataFrame could not be calculated using the input in part 1, I decided to create an excel which mimicks the behaviour which should have been observed in Part 2 and import it."
   ]
  },
  {
   "cell_type": "code",
   "execution_count": 428,
   "id": "cb9031bb",
   "metadata": {},
   "outputs": [],
   "source": [
    "import pandas as pd\n",
    "import matplotlib.pyplot as ply\n",
    "import seaborn as sns\n",
    "import numpy as np\n",
    "from datetime import datetime\n",
    "from dateutil.relativedelta import relativedelta                                                                                                                  \n",
    "from datetime import date \n",
    "from pandas.core.groupby.grouper import get_grouper\n",
    "import waterfall_chart\n",
    "import matplotlib.pyplot as plt\n",
    "import plotly.graph_objects as go\n"
   ]
  },
  {
   "cell_type": "code",
   "execution_count": 429,
   "id": "b8a69ad1",
   "metadata": {},
   "outputs": [
    {
     "data": {
      "text/html": [
       "<div>\n",
       "<style scoped>\n",
       "    .dataframe tbody tr th:only-of-type {\n",
       "        vertical-align: middle;\n",
       "    }\n",
       "\n",
       "    .dataframe tbody tr th {\n",
       "        vertical-align: top;\n",
       "    }\n",
       "\n",
       "    .dataframe thead th {\n",
       "        text-align: right;\n",
       "    }\n",
       "</style>\n",
       "<table border=\"1\" class=\"dataframe\">\n",
       "  <thead>\n",
       "    <tr style=\"text-align: right;\">\n",
       "      <th></th>\n",
       "      <th>Date</th>\n",
       "      <th>CF</th>\n",
       "      <th>Principal/Coupon</th>\n",
       "      <th>Type_Portfolios</th>\n",
       "    </tr>\n",
       "    <tr>\n",
       "      <th>ISIN</th>\n",
       "      <th></th>\n",
       "      <th></th>\n",
       "      <th></th>\n",
       "      <th></th>\n",
       "    </tr>\n",
       "  </thead>\n",
       "  <tbody>\n",
       "    <tr>\n",
       "      <th>A001</th>\n",
       "      <td>2022-08-03</td>\n",
       "      <td>156.222007</td>\n",
       "      <td>P</td>\n",
       "      <td>Bonds &amp; Investments</td>\n",
       "    </tr>\n",
       "    <tr>\n",
       "      <th>A001</th>\n",
       "      <td>2022-08-04</td>\n",
       "      <td>103.510986</td>\n",
       "      <td>C</td>\n",
       "      <td>Bonds &amp; Investments</td>\n",
       "    </tr>\n",
       "    <tr>\n",
       "      <th>A001</th>\n",
       "      <td>2022-08-05</td>\n",
       "      <td>728.130437</td>\n",
       "      <td>C</td>\n",
       "      <td>Bonds &amp; Investments</td>\n",
       "    </tr>\n",
       "    <tr>\n",
       "      <th>A001</th>\n",
       "      <td>2022-08-06</td>\n",
       "      <td>71.245698</td>\n",
       "      <td>C</td>\n",
       "      <td>Bonds &amp; Investments</td>\n",
       "    </tr>\n",
       "    <tr>\n",
       "      <th>A001</th>\n",
       "      <td>2022-08-07</td>\n",
       "      <td>590.215916</td>\n",
       "      <td>C</td>\n",
       "      <td>Bonds &amp; Investments</td>\n",
       "    </tr>\n",
       "    <tr>\n",
       "      <th>...</th>\n",
       "      <td>...</td>\n",
       "      <td>...</td>\n",
       "      <td>...</td>\n",
       "      <td>...</td>\n",
       "    </tr>\n",
       "    <tr>\n",
       "      <th>A021</th>\n",
       "      <td>2049-06-01</td>\n",
       "      <td>-1815.043247</td>\n",
       "      <td>C</td>\n",
       "      <td>Deposits Corporate</td>\n",
       "    </tr>\n",
       "    <tr>\n",
       "      <th>A021</th>\n",
       "      <td>2049-07-01</td>\n",
       "      <td>-8884.837190</td>\n",
       "      <td>C</td>\n",
       "      <td>Deposits Corporate</td>\n",
       "    </tr>\n",
       "    <tr>\n",
       "      <th>A021</th>\n",
       "      <td>2049-08-01</td>\n",
       "      <td>-3933.084474</td>\n",
       "      <td>C</td>\n",
       "      <td>Deposits Corporate</td>\n",
       "    </tr>\n",
       "    <tr>\n",
       "      <th>A021</th>\n",
       "      <td>2049-09-01</td>\n",
       "      <td>-264.563936</td>\n",
       "      <td>C</td>\n",
       "      <td>Deposits Corporate</td>\n",
       "    </tr>\n",
       "    <tr>\n",
       "      <th>A021</th>\n",
       "      <td>2049-10-01</td>\n",
       "      <td>2990.499266</td>\n",
       "      <td>C</td>\n",
       "      <td>Deposits Corporate</td>\n",
       "    </tr>\n",
       "  </tbody>\n",
       "</table>\n",
       "<p>1222 rows × 4 columns</p>\n",
       "</div>"
      ],
      "text/plain": [
       "           Date           CF Principal/Coupon      Type_Portfolios\n",
       "ISIN                                                              \n",
       "A001 2022-08-03   156.222007                P  Bonds & Investments\n",
       "A001 2022-08-04   103.510986                C  Bonds & Investments\n",
       "A001 2022-08-05   728.130437                C  Bonds & Investments\n",
       "A001 2022-08-06    71.245698                C  Bonds & Investments\n",
       "A001 2022-08-07   590.215916                C  Bonds & Investments\n",
       "...         ...          ...              ...                  ...\n",
       "A021 2049-06-01 -1815.043247                C   Deposits Corporate\n",
       "A021 2049-07-01 -8884.837190                C   Deposits Corporate\n",
       "A021 2049-08-01 -3933.084474                C   Deposits Corporate\n",
       "A021 2049-09-01  -264.563936                C   Deposits Corporate\n",
       "A021 2049-10-01  2990.499266                C   Deposits Corporate\n",
       "\n",
       "[1222 rows x 4 columns]"
      ]
     },
     "execution_count": 429,
     "metadata": {},
     "output_type": "execute_result"
    }
   ],
   "source": [
    "cf = pd.read_excel('IRRBB CashFlows.xlsx')\n",
    "cf.set_index('ISIN')\n"
   ]
  },
  {
   "cell_type": "code",
   "execution_count": 430,
   "id": "004b301a",
   "metadata": {},
   "outputs": [
    {
     "name": "stdout",
     "output_type": "stream",
     "text": [
      "<class 'pandas._libs.tslibs.timestamps.Timestamp'>\n"
     ]
    }
   ],
   "source": [
    "print(type(cf['Date'][2]))"
   ]
  },
  {
   "cell_type": "code",
   "execution_count": 431,
   "id": "1eb05f69",
   "metadata": {},
   "outputs": [],
   "source": [
    "overnight = pd.date_range(start='8/3/2022',end='8/4/2022')\n",
    "m1_m3 = pd.date_range(start='8/4/2022',end='11/3/2022')\n",
    "m3_m6 = pd.date_range(start='11/3/2022',end='2/3/2023')\n",
    "m6_m9 = pd.date_range(start='2/3/2023',end='5/3/2023')\n",
    "m9_y1 = pd.date_range(start='5/3/2023',end='8/3/2023')\n",
    "y1_y1_5 = pd.date_range(start='8/3/2023',end='2/3/2024')\n",
    "y1_5_y2 = pd.date_range(start='2/3/2024',end='8/3/2024')\n",
    "y2_y3 = pd.date_range(start='8/3/2024',end='8/3/2025')\n",
    "y3_y4 = pd.date_range(start='8/3/2025',end='8/3/2026')\n",
    "y4_y5 = pd.date_range(start='8/3/2026',end='8/3/2027')\n",
    "y5_y6 = pd.date_range(start='8/3/2027',end='8/3/2028')\n",
    "y6_y7 = pd.date_range(start='8/3/2028',end='8/3/2029')\n",
    "y7_y8 = pd.date_range(start='8/3/2029',end='8/3/2030')\n",
    "y8_y9 = pd.date_range(start='8/3/2030',end='8/3/2031')\n",
    "y9_y10 = pd.date_range(start='8/3/2031',end='8/3/2032')\n",
    "y10_y15 = pd.date_range(start='8/3/2032',end='8/3/2037')\n",
    "y15_y20 = pd.date_range(start='8/3/2037',end='8/3/2042')\n",
    "y20_= pd.date_range(start='8/3/2042',end='8/3/2062')"
   ]
  },
  {
   "cell_type": "code",
   "execution_count": 432,
   "id": "f11c68e4",
   "metadata": {
    "scrolled": true
   },
   "outputs": [],
   "source": [
    "overnight_c = cf[cf['Date'].isin(overnight)]['CF'].sum()\n",
    "m1_m3_c = cf[cf['Date'].isin(m1_m3)]['CF'].sum()\n",
    "m3_m6_c = cf[cf['Date'].isin(m3_m6)]['CF'].sum()\n",
    "m6_m9_c = cf[cf['Date'].isin(m6_m9)]['CF'].sum()\n",
    "m9_y1_c = cf[cf['Date'].isin(m9_y1)]['CF'].sum()\n",
    "y1_y1_5_c = cf[cf['Date'].isin(y1_y1_5)]['CF'].sum()\n",
    "y1_5_y2_c = cf[cf['Date'].isin(y1_5_y2)]['CF'].sum()\n",
    "y2_y3_c = cf[cf['Date'].isin(y2_y3)]['CF'].sum()\n",
    "y3_y4_c = cf[cf['Date'].isin(y3_y4)]['CF'].sum()\n",
    "y4_y5_c = cf[cf['Date'].isin(y4_y5)]['CF'].sum()\n",
    "y5_y6_c = cf[cf['Date'].isin(y5_y6)]['CF'].sum()\n",
    "y6_y7_c = cf[cf['Date'].isin(y6_y7)]['CF'].sum()\n",
    "y7_y8_c = cf[cf['Date'].isin(y7_y8)]['CF'].sum()\n",
    "y8_y9_c = cf[cf['Date'].isin(y8_y9)]['CF'].sum()\n",
    "y9_y10_c = cf[cf['Date'].isin(y9_y10)]['CF'].sum()\n",
    "y10_y15_c = cf[cf['Date'].isin(y10_y15)]['CF'].sum()\n",
    "y15_y20_c = cf[cf['Date'].isin(y15_y20)]['CF'].sum()\n",
    "y20_c = cf[cf['Date'].isin(y20_)]['CF'].sum()\n",
    "\n",
    "\n",
    "output_dic = {'Overnight':overnight_c,'1M<T<3M': m1_m3_c,'3M<T<6M':m3_m6_c,\n",
    "          '6M<T<9M':m6_m9_c,'9M<T<1Y':m9_y1_c,'1Y<T<1.5Y':y1_y1_5_c,\n",
    "          '1.5Y<T<2Y':y1_5_y2_c,'2Y<T<3Y':y2_y3_c,'3Y<T<4Y':y3_y4_c,\n",
    "          '4Y<T<5Y':y4_y5_c,'5Y<T<6Y':y5_y6_c,'6Y<T<7Y':y6_y7_c,\n",
    "          '7Y<T<8Y':y7_y8_c,'8Y<T<9Y':y8_y9_c,'9Y<T<10Y':y9_y10_c,\n",
    "          '10Y<T<15Y':y10_y15_c,'15Y<T<20Y':y15_y20_c,'T>20Y':y20_c\n",
    "        }\n"
   ]
  },
  {
   "cell_type": "code",
   "execution_count": 433,
   "id": "57566a79",
   "metadata": {},
   "outputs": [
    {
     "data": {
      "text/plain": [
       "{'Overnight': 713.1964416995805,\n",
       " '1M<T<3M': -15249.314352101457,\n",
       " '3M<T<6M': -98220.4033461479,\n",
       " '6M<T<9M': -95357.81638493162,\n",
       " '9M<T<1Y': -367.05251999125903,\n",
       " '1Y<T<1.5Y': -372180.8739105056,\n",
       " '1.5Y<T<2Y': 13451.082156822358,\n",
       " '2Y<T<3Y': 38110.06646813283,\n",
       " '3Y<T<4Y': 164002.5673994537,\n",
       " '4Y<T<5Y': 229986.96835232814,\n",
       " '5Y<T<6Y': 23174.928496940644,\n",
       " '6Y<T<7Y': 119166.648194076,\n",
       " '7Y<T<8Y': 78022.49321327897,\n",
       " '8Y<T<9Y': 97470.52634731164,\n",
       " '9Y<T<10Y': 68176.39917127225,\n",
       " '10Y<T<15Y': 362058.17932696885,\n",
       " '15Y<T<20Y': -541546.5345535146,\n",
       " 'T>20Y': -149396.710490932}"
      ]
     },
     "execution_count": 433,
     "metadata": {},
     "output_type": "execute_result"
    }
   ],
   "source": [
    "output_dic"
   ]
  },
  {
   "cell_type": "code",
   "execution_count": 434,
   "id": "cc27aaf7",
   "metadata": {},
   "outputs": [
    {
     "data": {
      "text/html": [
       "<div>\n",
       "<style scoped>\n",
       "    .dataframe tbody tr th:only-of-type {\n",
       "        vertical-align: middle;\n",
       "    }\n",
       "\n",
       "    .dataframe tbody tr th {\n",
       "        vertical-align: top;\n",
       "    }\n",
       "\n",
       "    .dataframe thead th {\n",
       "        text-align: right;\n",
       "    }\n",
       "</style>\n",
       "<table border=\"1\" class=\"dataframe\">\n",
       "  <thead>\n",
       "    <tr style=\"text-align: right;\">\n",
       "      <th></th>\n",
       "      <th>Cash Flow</th>\n",
       "    </tr>\n",
       "  </thead>\n",
       "  <tbody>\n",
       "    <tr>\n",
       "      <th>Overnight</th>\n",
       "      <td>713.196442</td>\n",
       "    </tr>\n",
       "    <tr>\n",
       "      <th>1M&lt;T&lt;3M</th>\n",
       "      <td>-15249.314352</td>\n",
       "    </tr>\n",
       "    <tr>\n",
       "      <th>3M&lt;T&lt;6M</th>\n",
       "      <td>-98220.403346</td>\n",
       "    </tr>\n",
       "    <tr>\n",
       "      <th>6M&lt;T&lt;9M</th>\n",
       "      <td>-95357.816385</td>\n",
       "    </tr>\n",
       "    <tr>\n",
       "      <th>9M&lt;T&lt;1Y</th>\n",
       "      <td>-367.052520</td>\n",
       "    </tr>\n",
       "    <tr>\n",
       "      <th>1Y&lt;T&lt;1.5Y</th>\n",
       "      <td>-372180.873911</td>\n",
       "    </tr>\n",
       "    <tr>\n",
       "      <th>1.5Y&lt;T&lt;2Y</th>\n",
       "      <td>13451.082157</td>\n",
       "    </tr>\n",
       "    <tr>\n",
       "      <th>2Y&lt;T&lt;3Y</th>\n",
       "      <td>38110.066468</td>\n",
       "    </tr>\n",
       "    <tr>\n",
       "      <th>3Y&lt;T&lt;4Y</th>\n",
       "      <td>164002.567399</td>\n",
       "    </tr>\n",
       "    <tr>\n",
       "      <th>4Y&lt;T&lt;5Y</th>\n",
       "      <td>229986.968352</td>\n",
       "    </tr>\n",
       "    <tr>\n",
       "      <th>5Y&lt;T&lt;6Y</th>\n",
       "      <td>23174.928497</td>\n",
       "    </tr>\n",
       "    <tr>\n",
       "      <th>6Y&lt;T&lt;7Y</th>\n",
       "      <td>119166.648194</td>\n",
       "    </tr>\n",
       "    <tr>\n",
       "      <th>7Y&lt;T&lt;8Y</th>\n",
       "      <td>78022.493213</td>\n",
       "    </tr>\n",
       "    <tr>\n",
       "      <th>8Y&lt;T&lt;9Y</th>\n",
       "      <td>97470.526347</td>\n",
       "    </tr>\n",
       "    <tr>\n",
       "      <th>9Y&lt;T&lt;10Y</th>\n",
       "      <td>68176.399171</td>\n",
       "    </tr>\n",
       "    <tr>\n",
       "      <th>10Y&lt;T&lt;15Y</th>\n",
       "      <td>362058.179327</td>\n",
       "    </tr>\n",
       "    <tr>\n",
       "      <th>15Y&lt;T&lt;20Y</th>\n",
       "      <td>-541546.534554</td>\n",
       "    </tr>\n",
       "    <tr>\n",
       "      <th>T&gt;20Y</th>\n",
       "      <td>-149396.710491</td>\n",
       "    </tr>\n",
       "  </tbody>\n",
       "</table>\n",
       "</div>"
      ],
      "text/plain": [
       "               Cash Flow\n",
       "Overnight     713.196442\n",
       "1M<T<3M    -15249.314352\n",
       "3M<T<6M    -98220.403346\n",
       "6M<T<9M    -95357.816385\n",
       "9M<T<1Y      -367.052520\n",
       "1Y<T<1.5Y -372180.873911\n",
       "1.5Y<T<2Y   13451.082157\n",
       "2Y<T<3Y     38110.066468\n",
       "3Y<T<4Y    164002.567399\n",
       "4Y<T<5Y    229986.968352\n",
       "5Y<T<6Y     23174.928497\n",
       "6Y<T<7Y    119166.648194\n",
       "7Y<T<8Y     78022.493213\n",
       "8Y<T<9Y     97470.526347\n",
       "9Y<T<10Y    68176.399171\n",
       "10Y<T<15Y  362058.179327\n",
       "15Y<T<20Y -541546.534554\n",
       "T>20Y     -149396.710491"
      ]
     },
     "execution_count": 434,
     "metadata": {},
     "output_type": "execute_result"
    }
   ],
   "source": [
    "output_pd = pd.DataFrame.from_dict(output_dic,orient='index')\n",
    "output_pd.columns = ['Cash Flow']\n",
    "output_pd"
   ]
  },
  {
   "cell_type": "code",
   "execution_count": 435,
   "id": "dbb6aeb6",
   "metadata": {},
   "outputs": [
    {
     "data": {
      "text/plain": [
       "{'Overnight': 713.1964416995805,\n",
       " '1M<T<3M': -15249.314352101457,\n",
       " '3M<T<6M': -98220.4033461479,\n",
       " '6M<T<9M': -95357.81638493162,\n",
       " '9M<T<1Y': -367.05251999125903,\n",
       " '1Y<T<1.5Y': -372180.8739105056,\n",
       " '1.5Y<T<2Y': 13451.082156822358,\n",
       " '2Y<T<3Y': 38110.06646813283,\n",
       " '3Y<T<4Y': 164002.5673994537,\n",
       " '4Y<T<5Y': 229986.96835232814,\n",
       " '5Y<T<6Y': 23174.928496940644,\n",
       " '6Y<T<7Y': 119166.648194076,\n",
       " '7Y<T<8Y': 78022.49321327897,\n",
       " '8Y<T<9Y': 97470.52634731164,\n",
       " '9Y<T<10Y': 68176.39917127225,\n",
       " '10Y<T<15Y': 362058.17932696885,\n",
       " '15Y<T<20Y': -541546.5345535146,\n",
       " 'T>20Y': -149396.710490932}"
      ]
     },
     "execution_count": 435,
     "metadata": {},
     "output_type": "execute_result"
    }
   ],
   "source": [
    "{'Overnight':overnight_c,'1M<T<3M': m1_m3_c,'3M<T<6M':m3_m6_c,\n",
    "          '6M<T<9M':m6_m9_c,'9M<T<1Y':m9_y1_c,'1Y<T<1.5Y':y1_y1_5_c,\n",
    "          '1.5Y<T<2Y':y1_5_y2_c,'2Y<T<3Y':y2_y3_c,'3Y<T<4Y':y3_y4_c,\n",
    "          '4Y<T<5Y':y4_y5_c,'5Y<T<6Y':y5_y6_c,'6Y<T<7Y':y6_y7_c,\n",
    "          '7Y<T<8Y':y7_y8_c,'8Y<T<9Y':y8_y9_c,'9Y<T<10Y':y9_y10_c,\n",
    "          '10Y<T<15Y':y10_y15_c,'15Y<T<20Y':y15_y20_c,'T>20Y':y20_c}"
   ]
  },
  {
   "cell_type": "markdown",
   "id": "e0570e94",
   "metadata": {},
   "source": [
    "This is the final part of the code, which generates the cash flow plot."
   ]
  },
  {
   "cell_type": "code",
   "execution_count": 436,
   "id": "dc5a200f",
   "metadata": {},
   "outputs": [
    {
     "name": "stderr",
     "output_type": "stream",
     "text": [
      "C:\\Users\\mforman\\Anaconda3\\lib\\site-packages\\waterfall_chart.py:66: FutureWarning: Behavior when concatenating bool-dtype and numeric-dtype arrays is deprecated; in a future version these will cast to object dtype (instead of coercing bools to numeric values). To retain the old behavior, explicitly cast bool-dtype arrays to numeric dtype.\n",
      "  trans.loc[net_label]= total\n"
     ]
    },
    {
     "data": {
      "image/png": "[encoded data removed]",
      "text/plain": [
       "<Figure size 750x500 with 1 Axes>"
      ]
     },
     "metadata": {
      "needs_background": "light"
     },
     "output_type": "display_data"
    }
   ],
   "source": [
    "%matplotlib inline\n",
    "plt.rcParams.update({'figure.figsize':(7.5,5), 'figure.dpi':100})\n",
    "a = ['Overnight','1M<T<3M','3M<T<6M','6M<T<9M','9M<T<1Y','1Y<T<1.5Y','1.5Y<T<2Y',\n",
    "    '2Y<T<3Y','3Y<T<4Y','4Y<T<5Y','5Y<T<6Y','6Y<T<7Y','7Y<T<8Y','8Y<T<9Y','9Y<T<10Y',\n",
    "    '10Y<T<15Y','15Y<T<20Y','T>20Y']\n",
    "b = [overnight_c,m1_m3_c,m3_m6_c,m6_m9_c,m9_y1_c,y1_y1_5_c,y1_5_y2_c,y2_y3_c,y3_y4_c,\n",
    "   y4_y5_c,y5_y6_c,y6_y7_c,y7_y8_c,y8_y9_c,y9_y10_c,y10_y15_c,y15_y20_c,y20_c]\n",
    "fig = waterfall_chart.plot(a,b)\n"
   ]
  }
 ],
 "metadata": {
  "kernelspec": {
   "display_name": "Python 3 (ipykernel)",
   "language": "python",
   "name": "python3"
  },
  "language_info": {
   "codemirror_mode": {
    "name": "ipython",
    "version": 3
   },
   "file_extension": ".py",
   "mimetype": "text/x-python",
   "name": "python",
   "nbconvert_exporter": "python",
   "pygments_lexer": "ipython3",
   "version": "3.9.12"
  },
  "toc": {
   "base_numbering": 1,
   "nav_menu": {},
   "number_sections": true,
   "sideBar": true,
   "skip_h1_title": false,
   "title_cell": "Table of Contents",
   "title_sidebar": "Contents",
   "toc_cell": false,
   "toc_position": {
    "height": "429.333px",
    "left": "38px",
    "top": "111.125px",
    "width": "256px"
   },
   "toc_section_display": true,
   "toc_window_display": true
  }
 },
 "nbformat": 4,
 "nbformat_minor": 5
}
